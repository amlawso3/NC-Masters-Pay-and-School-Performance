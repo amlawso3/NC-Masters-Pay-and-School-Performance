{
 "cells": [
  {
   "cell_type": "markdown",
   "metadata": {},
   "source": [
    "# Impact of Master's Pay on School Performance\n",
    "I interned with the Department of Public Instruction and was asked to analyze the relationship between teachers with master's degrees and school performance. The hope was that there was a relationship and this would encourage the NC General Assembly to reinstate master's pay.\n",
    "\n",
    "At the time I did not know about multiple linear regression so I used a simple linear regression. I want to take the time to share my original results and improve upon them using machine learning techniques. I will examine what features impact school growth, school performance grades, and school performance scores."
   ]
  },
  {
   "cell_type": "markdown",
   "metadata": {},
   "source": [
    "### Section 0: Importing and cleaning data"
   ]
  },
  {
   "cell_type": "code",
   "execution_count": null,
   "metadata": {},
   "outputs": [],
   "source": [
    "#Importing needed modules\n",
    "import pandas as pd\n",
    "from pandasql import sqldf\n",
    "import random\n",
    "import plotly.express as px\n",
    "from pandas.api.types import is_numeric_dtype\n",
    "from scipy.stats import kruskal\n",
    "from scipy.stats import normaltest\n",
    "import numpy as np\n",
    "import scipy.stats as stats\n",
    "from sklearn import tree\n",
    "import graphviz\n",
    "from sklearn import metrics\n",
    "from sklearn.model_selection import cross_val_score\n",
    "from sklearn.model_selection import RepeatedKFold\n",
    "from sklearn.linear_model import Lasso\n",
    "from sklearn import linear_model\n",
    "from sklearn.model_selection import train_test_split\n",
    "from sklearn.preprocessing import StandardScaler"
   ]
  },
  {
   "cell_type": "code",
   "execution_count": null,
   "metadata": {},
   "outputs": [],
   "source": [
    "#Reading in data and selecting specific columns of interest\n",
    "masters=pd.read_csv(\"C:\\\\Users\\\\amlaw\\\\Documents\\\\Institute for Advanced Analytics\\\\SideProjects\\\\NC School Data\\\\FullData\\\\NCSchoolRemade.csv\")\n",
    "\n",
    "#removing data without a spg score\n",
    "masters=masters[masters['spg_score'].notnull()]\n",
    "\n",
    "#Replacinig missing values with 0\n",
    "masters=masters.fillna(0)\n",
    "\n",
    "#Viewing data\n",
    "masters.head()"
   ]
  },
  {
   "cell_type": "code",
   "execution_count": null,
   "metadata": {},
   "outputs": [],
   "source": [
    "#Printing unique variables to verify clean data.\n",
    "for col in masters.columns:\n",
    "    print(col, masters[col].unique())"
   ]
  },
  {
   "cell_type": "code",
   "execution_count": null,
   "metadata": {},
   "outputs": [],
   "source": [
    "#Separating data into predictors and y\n",
    "X=masters.drop(columns='spg_score')\n",
    "y=masters['spg_score']\n",
    "\n",
    "#Splitting data once to create test sets\n",
    "X_train_bad, X_test, y_train_bad, y_test = train_test_split(X, y, test_size=0.1, random_state=844)\n",
    "#Verifying that the test is 10%\n",
    "print('Test %', len(X_test)/len(X))\n",
    "print('Test count',len(X_test))\n",
    "\n",
    "#Splitting data again to create training and validation\n",
    "X_train, X_valid, y_train, y_valid = train_test_split(X_train_bad, y_train_bad, test_size=0.22, random_state=844)\n",
    "#Checking percentages\n",
    "print('Train %', len(X_train)/len(X))\n",
    "print('Valid %', len(X_valid)/len(X))"
   ]
  },
  {
   "cell_type": "code",
   "execution_count": null,
   "metadata": {},
   "outputs": [],
   "source": [
    "#Visualizing numeric data with histograms\n",
    "for col in X_train.columns:\n",
    "    if is_numeric_dtype(X_train[col])==True:\n",
    "        fig1=px.histogram(X_train[col])\n",
    "        fig1.show()"
   ]
  },
  {
   "cell_type": "markdown",
   "metadata": {},
   "source": [
    "### Section 1: Relationship between school performance grades and percentage of teachers with advanced degrees."
   ]
  },
  {
   "cell_type": "markdown",
   "metadata": {},
   "source": [
    "#### Is the percentage of teachers with advanced degrees different across whether a school did not meet, met growth, or exceeded growth?"
   ]
  },
  {
   "cell_type": "code",
   "execution_count": null,
   "metadata": {},
   "outputs": [],
   "source": [
    "#Creating dataframes for schools that did not meet growth, met growth, or exceeded growth\n",
    "NotMet=X_train[X_train['eg_status']=='NotMet']\n",
    "Met=X_train[X_train['eg_status']=='Met']\n",
    "Exceeded=X_train[X_train['eg_status']=='Exceeded']"
   ]
  },
  {
   "cell_type": "code",
   "execution_count": null,
   "metadata": {
    "scrolled": true
   },
   "outputs": [],
   "source": [
    "#Visualizing the data to see if it is normal enough to use an ANOVA\n",
    "fig2=px.histogram(NotMet, x='pct_adv_degree', \n",
    "                  title='Histogram of teachers with advanced degrees for schools that did not meet growth',\n",
    "                  labels={'pct_adv_degree': 'Percent of teachers with advanced degrees'})\n",
    "fig3=px.histogram(Met, x='pct_adv_degree', \n",
    "                  title='Histogram of teachers with advanced degrees for schools that met growth',\n",
    "                  labels={'pct_adv_degree': 'Percent of teachers with advanced degrees'})\n",
    "fig4=px.histogram(Exceeded, x='pct_adv_degree', \n",
    "                  title='Histogram of teachers with advanced degrees for schools that exceeded growth',\n",
    "                  labels={'pct_adv_degree': 'Percent of teachers with advanced degrees'})\n",
    "fig2.show()\n",
    "fig3.show()\n",
    "fig4.show()\n",
    "#Some are questionable on their normality"
   ]
  },
  {
   "cell_type": "code",
   "execution_count": null,
   "metadata": {},
   "outputs": [],
   "source": [
    "#Need to remove one school because they have no degree information at all\n",
    "Met=Met[Met['pct_adv_degree'].notnull()]"
   ]
  },
  {
   "cell_type": "code",
   "execution_count": null,
   "metadata": {},
   "outputs": [],
   "source": [
    "#I'm not certain if some of these are close enough, so I want to see a statstical test of normality\n",
    "k1, p1 = normaltest(NotMet['pct_adv_degree'])\n",
    "k2, p2 = normaltest(Met['pct_adv_degree'])\n",
    "k3, p3 = normaltest(Exceeded['pct_adv_degree'])\n",
    "print(p1, p2, p3)\n",
    "#Not normal"
   ]
  },
  {
   "cell_type": "code",
   "execution_count": null,
   "metadata": {},
   "outputs": [],
   "source": [
    "#Testing if there is a difference in distribution of teachers with advanced degrees in schools with \n",
    "#different levels of EVAAS growth\n",
    "stat, p=kruskal(NotMet['pct_adv_degree'], Met['pct_adv_degree'], Exceeded['pct_adv_degree'])\n",
    "print('The p-value is ' + str(p))\n",
    "\n",
    "if (p>0.0054):\n",
    "    print('This shows that there is NOT a difference in percentage of teachers with advanced degrees.')\n",
    "else:\n",
    "    print('This shows that there IS a difference in percentage of teachers with advanced degrees.')"
   ]
  },
  {
   "cell_type": "code",
   "execution_count": null,
   "metadata": {},
   "outputs": [],
   "source": [
    "#Visualizing differences in percentage of teachers with advanced degrees with boxplots\n",
    "fig5 = px.box(X_train[X_train['eg_status']!=0], x=\"eg_status\", y=\"pct_adv_degree\", \n",
    "              labels={'eg_status': 'EVAAS Growth Status',\n",
    "                        'pct_adv_degree': '% of teachers with advanced degrees'})\n",
    "fig5.update_layout(title={'text':'Growth Status and % of teachers with advanced degrees', 'x':0.5})\n",
    "fig5.show()"
   ]
  },
  {
   "cell_type": "markdown",
   "metadata": {},
   "source": [
    "The percentage of teachers with advanced degrees does not vary that much by growth status."
   ]
  },
  {
   "cell_type": "markdown",
   "metadata": {},
   "source": [
    "### Examining relationship between school score and % of teachers with advanced degrees"
   ]
  },
  {
   "cell_type": "code",
   "execution_count": null,
   "metadata": {},
   "outputs": [],
   "source": [
    "#Combining X and y for ease\n",
    "Xy_train=pd.concat([X_train, y_train], axis=1)"
   ]
  },
  {
   "cell_type": "code",
   "execution_count": null,
   "metadata": {},
   "outputs": [],
   "source": [
    "#Fitting a linear regression to see the relationship between school score and the percent of teachers with advanced degrees.\n",
    "fig6=px.scatter(Xy_train, x='pct_adv_degree', y='spg_score', trendline='ols', \n",
    "                labels={'pct_adv_degree':'% of teachers with advanced degrees',\n",
    "                       'spg_score':'2017 School Performance Score'})\n",
    "fig6.update_layout(title={'text':'Relationship between school performance scores and teacher advanced degrees','x':0.5})\n",
    "fig6.show()"
   ]
  },
  {
   "cell_type": "markdown",
   "metadata": {},
   "source": [
    "### Examining if this continues for Master's degrees too."
   ]
  },
  {
   "cell_type": "code",
   "execution_count": null,
   "metadata": {},
   "outputs": [],
   "source": [
    "#Visualizing for normality\n",
    "fig7=px.histogram(NotMet, x='Masters', \n",
    "                  title=\"Histogram of teachers with master's degrees for schools that did not meet growth\",\n",
    "                  labels={'Masters': \"Percent of teachers with master's degrees\"})\n",
    "fig8=px.histogram(Met, x='Masters', \n",
    "                  title=\"Histogram of teachers with master's degrees for schools that met growth\",\n",
    "                  labels={'Masters': \"Percent of teachers with master's degrees\"})\n",
    "fig9=px.histogram(Exceeded, x='Masters', \n",
    "                  title=\"Histogram of teachers with msater's degrees for schools that exceeded growth\",\n",
    "                  labels={'Masters': \"Percent of teachers with master's degrees\"})\n",
    "fig7.show()\n",
    "fig8.show()\n",
    "fig9.show()\n",
    "#These are definitely not normal. So Kruskal-Wallis test it is."
   ]
  },
  {
   "cell_type": "code",
   "execution_count": null,
   "metadata": {},
   "outputs": [],
   "source": [
    "#Testing if there is a difference in distribution of teachers with masters degrees in schools with \n",
    "#different levels of EVAAS growth\n",
    "stat, p=kruskal(NotMet['Masters'], Met['Masters'], Exceeded['Masters'])\n",
    "print('The p-value is ' + str(p))\n",
    "\n",
    "if (p>0.0054):\n",
    "    print('This shows that there is NOT a difference in percentage of teachers with masters degrees.')\n",
    "else:\n",
    "    print('This shows that there IS a difference in percentage of teachers with masters degrees.')"
   ]
  },
  {
   "cell_type": "code",
   "execution_count": null,
   "metadata": {},
   "outputs": [],
   "source": [
    "#Visualizing differences in percentage of teachers with masters degrees with boxplots\n",
    "fig10 = px.box(Xy_train[Xy_train['eg_status']!=0], x=\"eg_status\", y=\"Masters\", \n",
    "               labels={'eg_status': 'EVAAS Growth Status',\n",
    "                    'Masters': \"% of teachers with master's degrees\"})\n",
    "fig10.update_layout(title={'text': \"Growth Status and % of teachers with master's degrees\", 'x':0.5})\n",
    "fig10.show()"
   ]
  },
  {
   "cell_type": "markdown",
   "metadata": {},
   "source": [
    "It seems like only outliers in NC Schools have more than 30% of teachers with master's degrees. Those that met growth seem to have a lower percentage of teachers with master's degrees overall."
   ]
  },
  {
   "cell_type": "markdown",
   "metadata": {},
   "source": [
    "### Examining relationship between school score and % of teachers with masters degrees"
   ]
  },
  {
   "cell_type": "code",
   "execution_count": null,
   "metadata": {},
   "outputs": [],
   "source": [
    "#Fitting a linear regression to see the relationship between school score and the percent of teachers with masters degrees.\n",
    "fig11=px.scatter(Xy_train, x='Masters', y='spg_score', trendline='ols', \n",
    "                labels={'Masters':\"% of teachers with master's degrees\",\n",
    "                       'spg_score':'2017 School Performance Score'})\n",
    "fig11.update_layout(title={'text':\"Relationship between school performance scores and teacher master's degrees\",'x':0.5})\n",
    "fig11.show()"
   ]
  },
  {
   "cell_type": "markdown",
   "metadata": {},
   "source": [
    "# Section 2: What features contribute to whether a school did not meet growth, met growth, or exceeded growth?"
   ]
  },
  {
   "cell_type": "code",
   "execution_count": null,
   "metadata": {},
   "outputs": [],
   "source": [
    "#Creating matrices to complete a decision tree below\n",
    "Xy_train=Xy_train[Xy_train['eg_status']!=0]\n",
    "X=Xy_train.drop(columns=['eg_status', 'agency_code', 'School_Name', 'LEA_Name', 'eg_score', 'School_Type_Desc', 'ma_spg_score',\n",
    "                         'rd_spg_score', 'ma_eg_status', 'rd_eg_status', 'ma_eg_score', 'rd_eg_score', 'LEA_Name.1', 'Free',\n",
    "                         'Reduced', 'Total', 'ACALL', 'ACCO', 'ACEN', 'ACMA', 'ACRD', 'ACSC', 'ACWR', 'avg_sat_score',\n",
    "                         'pct_sat_participation', 'EDS%', 'Final_ADM', 'pct_ap_pass', 'pct_ap_participation', 'year', \n",
    "                         'WAP_Count', 'NumClassrooms', 'crime', 'short_term', 'long_term', 'expulsion', \n",
    "                         'Does_Not_Meet_Expected_Growth', 'Exceeds_Expected_Growth', 'Meets_Expected_Growth', 'Locale2', \n",
    "                         'spg_score', 'spg_grade', 'Advanced', 'In_Process', 'Total_Degrees'])\n",
    "y=Xy_train.eg_status[Xy_train['eg_status']!=0]"
   ]
  },
  {
   "cell_type": "code",
   "execution_count": null,
   "metadata": {},
   "outputs": [],
   "source": [
    "#Shortening decision tree classifier\n",
    "dt=tree.DecisionTreeClassifier(criterion=\"gini\", max_depth=10, min_samples_leaf=50)\n",
    "\n",
    "#I tried gini and entropy and gini proved to be the best. I tried different pruning depths and 10 with a minimum leaf size of\n",
    "#50 seemed to produce a reasonably sized tree"
   ]
  },
  {
   "cell_type": "code",
   "execution_count": null,
   "metadata": {},
   "outputs": [],
   "source": [
    "#Fitting decision tree\n",
    "dt=dt.fit(X, y)"
   ]
  },
  {
   "cell_type": "code",
   "execution_count": null,
   "metadata": {},
   "outputs": [],
   "source": [
    "#Visuazlizing the tree itself (and saving it as a PDF)\n",
    "X_feature_names = list(X.columns)\n",
    "dot_data = tree.export_graphviz(dt, out_file=None, feature_names=X_feature_names, class_names=['Not Met', 'Met', 'Exceeded'])\n",
    "graph = graphviz.Source(dot_data) \n",
    "graph.render(\"masters\")\n",
    "graph"
   ]
  },
  {
   "cell_type": "code",
   "execution_count": null,
   "metadata": {},
   "outputs": [],
   "source": [
    "#Creating predicitions based on this tree\n",
    "y_pred = dt.predict(X)\n",
    "\n",
    "#What is the goodness of fit?\n",
    "print(\"Goodness of fit:\",metrics.accuracy_score(y, y_pred))"
   ]
  },
  {
   "cell_type": "code",
   "execution_count": null,
   "metadata": {},
   "outputs": [],
   "source": [
    "#Creating matrices to complete a decision tree below\n",
    "X_valid_simp=X_valid[X_valid['eg_status']!=0]\n",
    "Valid_growth=X_valid_simp['eg_status']\n",
    "X_valid_simp=X_valid_simp.drop(columns=['eg_status', 'agency_code', 'School_Name', 'LEA_Name', 'eg_score', 'School_Type_Desc', \n",
    "                         'rd_spg_score', 'ma_eg_status', 'rd_eg_status', 'ma_eg_score', 'rd_eg_score', 'LEA_Name.1', 'Free',\n",
    "                         'Reduced', 'Total', 'ACALL', 'ACCO', 'ACEN', 'ACMA', 'ACRD', 'ACSC', 'ACWR', 'avg_sat_score',\n",
    "                         'pct_sat_participation', 'EDS%', 'Final_ADM', 'pct_ap_pass', 'pct_ap_participation', 'year', \n",
    "                         'WAP_Count', 'NumClassrooms', 'crime', 'short_term', 'long_term', 'expulsion', \n",
    "                         'Does_Not_Meet_Expected_Growth', 'Exceeds_Expected_Growth', 'Meets_Expected_Growth', 'Locale2', \n",
    "                         'ma_spg_score', 'spg_grade', 'Advanced', 'In_Process', 'Total_Degrees'])\n",
    "y_pred_valid = dt.predict(X_valid_simp)\n",
    "\n",
    "#Accuracy on validation\n",
    "print(metrics.accuracy_score(Valid_growth, y_pred_valid))\n",
    "\n",
    "#Gini performed slightly better on validation"
   ]
  },
  {
   "cell_type": "code",
   "execution_count": null,
   "metadata": {},
   "outputs": [],
   "source": [
    "#Seeing if variable importance provides any extra information for interpreting the tree.\n",
    "feat_importance = dt.tree_.compute_feature_importances(normalize=False)\n",
    "var_importance = {}\n",
    "var_import=[]\n",
    "for i in range(0, len(X_feature_names)):\n",
    "    if feat_importance[i] > 0:\n",
    "        var_importance[X_feature_names[i]] = feat_importance[i]\n",
    "        #Storing a list of significant variables for later use\n",
    "        var_import.append(X_feature_names[i])\n",
    "\n",
    "    \n",
    "sort_var_import=sorted(var_importance.items(), key=lambda x: x[1], reverse=True)\n",
    "for i in sort_var_import:\n",
    "    print(str(i[0]) + ': ' + str(i[1]))"
   ]
  },
  {
   "cell_type": "markdown",
   "metadata": {},
   "source": [
    "Degrees matter for school growth, but teacher turnover and the percentage of economically disadvantaged youth also contribute."
   ]
  },
  {
   "cell_type": "markdown",
   "metadata": {},
   "source": [
    "# Section 3: What features contribute to school performance grades?"
   ]
  },
  {
   "cell_type": "markdown",
   "metadata": {},
   "source": [
    "## Fitting a decision tree for school performance grades (A-F)"
   ]
  },
  {
   "cell_type": "code",
   "execution_count": null,
   "metadata": {},
   "outputs": [],
   "source": [
    "#Creating data matrix for seeing relationship between school performance grade and other variables\n",
    "X2=Xy_train.drop(columns=['eg_status', 'agency_code', 'School_Name', 'LEA_Name', 'eg_score', 'School_Type_Desc', \n",
    "                         'rd_spg_score', 'ma_eg_status', 'rd_eg_status', 'ma_eg_score', 'rd_eg_score', 'LEA_Name.1', 'Free',\n",
    "                         'Reduced', 'Total', 'ACALL', 'ACCO', 'ACEN', 'ACMA', 'ACRD', 'ACSC', 'ACWR', 'avg_sat_score',\n",
    "                         'pct_sat_participation', 'EDS%', 'Final_ADM', 'pct_ap_pass', 'pct_ap_participation', 'year', \n",
    "                         'WAP_Count', 'NumClassrooms', 'crime', 'short_term', 'long_term', 'expulsion', \n",
    "                         'Does_Not_Meet_Expected_Growth', 'Exceeds_Expected_Growth', 'Meets_Expected_Growth', 'Locale2', \n",
    "                         'ma_spg_score', 'spg_grade', 'Advanced', 'In_Process', 'Total_Degrees', 'spg_score'])\n",
    "y2=Xy_train['spg_grade']"
   ]
  },
  {
   "cell_type": "code",
   "execution_count": null,
   "metadata": {},
   "outputs": [],
   "source": [
    "dt2=tree.DecisionTreeClassifier(criterion=\"entropy\", max_depth=10, min_samples_leaf=50)"
   ]
  },
  {
   "cell_type": "code",
   "execution_count": null,
   "metadata": {},
   "outputs": [],
   "source": [
    "#Fitting tree\n",
    "dt2=dt2.fit(X2, y2)"
   ]
  },
  {
   "cell_type": "code",
   "execution_count": null,
   "metadata": {},
   "outputs": [],
   "source": [
    "#Visualizing tree\n",
    "X2_feature_names = list(X2.columns)\n",
    "dot_data = tree.export_graphviz(dt2, out_file=None, feature_names=X2_feature_names, class_names=['A', 'B', 'C', 'D', 'F', 'A+NG'])\n",
    "graph = graphviz.Source(dot_data) \n",
    "graph.render(\"masters_grade\")\n",
    "graph"
   ]
  },
  {
   "cell_type": "code",
   "execution_count": null,
   "metadata": {},
   "outputs": [],
   "source": [
    "#Seeing if variable importance provides any extra information\n",
    "feat_importance2 = dt2.tree_.compute_feature_importances(normalize=False)\n",
    "var_importance2 = {}\n",
    "var_import2=[]\n",
    "for i in range(0, len(X2_feature_names)):\n",
    "    if feat_importance2[i] > 0:\n",
    "        var_importance2[X2_feature_names[i]] = feat_importance2[i]\n",
    "        #Storing a list of significant variables for later use\n",
    "        var_import2.append(X2_feature_names[i])\n",
    "\n",
    "    \n",
    "sort_var_import2=sorted(var_importance2.items(), key=lambda x: x[1], reverse=True)\n",
    "for i in sort_var_import2:\n",
    "    print(str(i[0]) + ': ' + str(i[1]))"
   ]
  },
  {
   "cell_type": "code",
   "execution_count": null,
   "metadata": {},
   "outputs": [],
   "source": [
    "#Predicting values based on tree\n",
    "y_pred2 = dt2.predict(X2)\n",
    "\n",
    "#What is the goodness of fit?\n",
    "print(\"Goodness of fit:\",metrics.accuracy_score(y2, y_pred2))"
   ]
  },
  {
   "cell_type": "code",
   "execution_count": null,
   "metadata": {},
   "outputs": [],
   "source": [
    "#Creating matrices to complete a decision tree below\n",
    "Valid_grade=X_valid['spg_grade']\n",
    "X_valid_simp=X_valid.drop(columns=['eg_status', 'agency_code', 'School_Name', 'LEA_Name', 'eg_score', 'School_Type_Desc', \n",
    "                         'rd_spg_score', 'ma_eg_status', 'rd_eg_status', 'ma_eg_score', 'rd_eg_score', 'LEA_Name.1', 'Free',\n",
    "                         'Reduced', 'Total', 'ACALL', 'ACCO', 'ACEN', 'ACMA', 'ACRD', 'ACSC', 'ACWR', 'avg_sat_score',\n",
    "                         'pct_sat_participation', 'EDS%', 'Final_ADM', 'pct_ap_pass', 'pct_ap_participation', 'year', \n",
    "                         'WAP_Count', 'NumClassrooms', 'crime', 'short_term', 'long_term', 'expulsion', \n",
    "                         'Does_Not_Meet_Expected_Growth', 'Exceeds_Expected_Growth', 'Meets_Expected_Growth', 'Locale2', \n",
    "                         'ma_spg_score', 'spg_grade', 'Advanced', 'In_Process', 'Total_Degrees'])\n",
    "y_pred2_valid = dt2.predict(X_valid_simp)\n",
    "\n",
    "\n",
    "#Accuracy\n",
    "print(\"Accuracy:\",metrics.accuracy_score(Valid_grade, y_pred2_valid))\n",
    "\n",
    "#Entropy did better on accuracy"
   ]
  },
  {
   "cell_type": "markdown",
   "metadata": {},
   "source": [
    "# Section 4: What features contribute to school performance scores?"
   ]
  },
  {
   "cell_type": "code",
   "execution_count": null,
   "metadata": {},
   "outputs": [],
   "source": [
    "#Standardizing data for LASSO Regression\n",
    "scaler=StandardScaler()\n",
    "stand_X = scaler.fit_transform(X2)\n",
    "stand_X_train = pd.DataFrame(stand_X, columns=X2_feature_names)\n",
    "\n",
    "np_y_train = Xy_train['spg_score'].to_numpy()\n",
    "\n",
    "stand_y_train = scaler.fit_transform(np_y_train.reshape(-1,1))\n",
    "\n",
    "#Standardize validation data\n",
    "X_v=X_valid.drop(columns=['eg_status', 'agency_code', 'School_Name', 'LEA_Name', 'eg_score', 'School_Type_Desc', \n",
    "                         'rd_spg_score', 'ma_eg_status', 'rd_eg_status', 'ma_eg_score', 'rd_eg_score', 'LEA_Name.1', 'Free',\n",
    "                         'Reduced', 'Total', 'ACALL', 'ACCO', 'ACEN', 'ACMA', 'ACRD', 'ACSC', 'ACWR', 'avg_sat_score',\n",
    "                         'pct_sat_participation', 'EDS%', 'Final_ADM', 'pct_ap_pass', 'pct_ap_participation', 'year', \n",
    "                         'WAP_Count', 'NumClassrooms', 'crime', 'short_term', 'long_term', 'expulsion', \n",
    "                         'Does_Not_Meet_Expected_Growth', 'Exceeds_Expected_Growth', 'Meets_Expected_Growth', 'Locale2', \n",
    "                         'ma_spg_score', 'spg_grade', 'Advanced', 'In_Process', 'Total_Degrees'])\n",
    "stand_X_v = scaler.fit_transform(X_v)\n",
    "stand_X_valid = pd.DataFrame(stand_X_v, columns=X_v.columns)\n",
    "\n",
    "np_y_valid = y_valid.to_numpy()\n",
    "\n",
    "stand_y_valid = scaler.fit_transform(np_y_valid.reshape(-1,1))"
   ]
  },
  {
   "cell_type": "code",
   "execution_count": null,
   "metadata": {},
   "outputs": [],
   "source": [
    "#I used the significant variables from the decision trees for growth and school performance grade as a starting point\n",
    "\n",
    "#X3 has variables from school performance grade model\n",
    "X3=stand_X_train[var_import2]\n",
    "X3_v=stand_X_valid[var_import2]\n",
    "\n",
    "#X4 has variables from the growth model\n",
    "X4=stand_X_train[var_import]\n",
    "X4_v=stand_X_valid[var_import]"
   ]
  },
  {
   "cell_type": "code",
   "execution_count": null,
   "metadata": {},
   "outputs": [],
   "source": [
    "# Creating a function to repeat LASSO\n",
    "\n",
    "def lasso_model(x, y, x_valid, y_valid, alpha):\n",
    "    # fit\n",
    "    model = Lasso(alpha=alpha, normalize=False, random_state=543)\n",
    "    model.fit(x, y)\n",
    "    pred = model.predict(x_valid)\n",
    "    coef = model.coef_\n",
    "    \n",
    "    #MAE\n",
    "    diff=abs(y_valid-pred)\n",
    "    print(\"Alpha\", alpha, \"MAE:\",np.mean(diff))"
   ]
  },
  {
   "cell_type": "code",
   "execution_count": null,
   "metadata": {},
   "outputs": [],
   "source": [
    "# Create list of alpha values to test\n",
    "alpha_lasso = [1e-15, 1e-10, 1e-8, 1e-5,1e-4, 1e-3,1e-2, 1e-1, 1, 5, 10]\n",
    "\n",
    "# Run function for X3\n",
    "for elem in alpha_lasso:\n",
    "    lasso_model(X3, stand_y_train, X3_v, stand_y_valid, elem)"
   ]
  },
  {
   "cell_type": "markdown",
   "metadata": {},
   "source": [
    "An alpha >= 1 gave all 0 coefficients. So I'm using 0.1 as my alpha level."
   ]
  },
  {
   "cell_type": "code",
   "execution_count": null,
   "metadata": {},
   "outputs": [],
   "source": [
    "#LASSO regression using significant variables for school performance grades\n",
    "model = Lasso(alpha=0.1,normalize=False, random_state=543)\n",
    "model.fit(X3, stand_y_train)\n",
    "\n",
    "for i in range(0, len(var_importance2)):\n",
    "    print(var_import2[i], model.coef_[i])"
   ]
  },
  {
   "cell_type": "code",
   "execution_count": null,
   "metadata": {},
   "outputs": [],
   "source": [
    "#Creating a pandas dataframe to print values\n",
    "dict_LASSO_X3 = {'Variable':var_import2,'Coefficient':model.coef_}\n",
    "LASSO_X3 = pd.DataFrame(dict_LASSO_X3)\n",
    "\n",
    "#Removing zero coefficients and printing values\n",
    "LASSO_X3_Sig = LASSO_X3[LASSO_X3['Coefficient'] != 0]\n",
    "LASSO_X3_Sig.reset_index(drop=True, inplace=True)\n",
    "prop=pd.DataFrame(['4-Year Graduation Rate', '% of Black Students',  '% of White Students',\n",
    "                   '% of Economically Disadvantaged Students', '% of Attendance to ADM',\n",
    "                   '% of Free Lunch Students', 'Short Term Suspensions per 100'], columns=['Variable Name'])\n",
    "LASSO_X3_Sig=pd.concat([LASSO_X3_Sig, prop], axis=1)\n",
    "LASSO_X3_Sig['Index']=LASSO_X3_Sig['Variable']\n",
    "LASSO_X3_Sig.set_index('Index', inplace=True)\n",
    "LASSO_X3_Sig"
   ]
  },
  {
   "cell_type": "code",
   "execution_count": null,
   "metadata": {},
   "outputs": [],
   "source": [
    "#Creating function to put variable coefficients back into regular units\n",
    "def unstdev(l, coef):\n",
    "    for elem in coef['Variable']:\n",
    "        l.append(coef.loc[elem, 'Coefficient']*(np.std(y_train)/np.std(X_train[elem])))\n",
    "    for i in range(0, len(coef)):\n",
    "        print(coef.Variable[i] +': ' + str(l[i]))"
   ]
  },
  {
   "cell_type": "code",
   "execution_count": null,
   "metadata": {},
   "outputs": [],
   "source": [
    "#unstandardize coefficients\n",
    "coef_unstd_X3=[]\n",
    "unstdev(coef_unstd_X3, LASSO_X3_Sig)"
   ]
  },
  {
   "cell_type": "code",
   "execution_count": null,
   "metadata": {},
   "outputs": [],
   "source": [
    "#Creating a plot ot visualize information \n",
    "fig12 = px.bar(LASSO_X3_Sig, x=\"Variable Name\", y=\"Coefficient\")\n",
    "fig12.update_layout(title={'text':'Coefficients for each Selected Variable', 'x':0.5})\n",
    "fig12.show()"
   ]
  },
  {
   "cell_type": "code",
   "execution_count": null,
   "metadata": {},
   "outputs": [],
   "source": [
    "# Run function for X4\n",
    "for elem in alpha_lasso:\n",
    "    lasso_model(X4, stand_y_train, X4_v, stand_y_valid, elem)"
   ]
  },
  {
   "cell_type": "markdown",
   "metadata": {},
   "source": [
    "An alpha >= 1 gave all 0 coefficients. So I'm using 0.1 as my alpha level."
   ]
  },
  {
   "cell_type": "code",
   "execution_count": null,
   "metadata": {},
   "outputs": [],
   "source": [
    "#LASSO regression using significant variables from school growth decision tree\n",
    "model = Lasso(alpha=0.1, normalize=False, random_state=543)\n",
    "model.fit(X4, stand_y_train)\n",
    "for i in range(0, len(var_importance)):\n",
    "    print(var_import[i], model.coef_[i])"
   ]
  },
  {
   "cell_type": "code",
   "execution_count": null,
   "metadata": {},
   "outputs": [],
   "source": [
    "#Creating pandas dataframe for examining coefficients\n",
    "dict_LASSO_X4 = {'Variable':var_import,'Coefficient':model.coef_}\n",
    "LASSO_X4 = pd.DataFrame(dict_LASSO_X4)\n",
    "\n",
    "#Removing zero coefficients\n",
    "LASSO_X4_Sig = LASSO_X4[LASSO_X4['Coefficient'] != 0]\n",
    "LASSO_X4_Sig.reset_index(drop=True, inplace=True)\n",
    "prop=pd.DataFrame(['5-Year Graduation Rate', '% of Black Students', '% of Economically Disadvantaged Students',\n",
    "                   'Average Number of Book Titles', '% of Teachers with < 3 Years Experience', \n",
    "                   '1 Year Teacher/Principal Turnover %', '% of Reduced Lunch Students', 'Short Term Suspensions per 100'],\n",
    "                   columns=['Variable Name'])\n",
    "LASSO_X4_Sig=pd.concat([LASSO_X4_Sig, prop], axis=1)\n",
    "LASSO_X4_Sig['Index']=LASSO_X4_Sig['Variable']\n",
    "LASSO_X4_Sig.set_index('Index', inplace=True)\n",
    "\n",
    "LASSO_X4_Sig"
   ]
  },
  {
   "cell_type": "code",
   "execution_count": null,
   "metadata": {},
   "outputs": [],
   "source": [
    "#Unstandardize the coefficients\n",
    "coef_unstd_X4=[]\n",
    "unstdev(coef_unstd_X4, LASSO_X4_Sig)"
   ]
  },
  {
   "cell_type": "code",
   "execution_count": null,
   "metadata": {},
   "outputs": [],
   "source": [
    "#Creating a plot ot visualize information \n",
    "fig13 = px.bar(LASSO_X4_Sig, x=\"Variable Name\", y=\"Coefficient\")\n",
    "fig13.update_layout(title={'text':'Coefficients for each Selected Variable', 'x':0.5})\n",
    "fig13.show()"
   ]
  },
  {
   "cell_type": "code",
   "execution_count": null,
   "metadata": {},
   "outputs": [],
   "source": [
    "#Removing variables that measure similar ideas in school and graduation rates to prevent multicollinearity\n",
    "X5=stand_X_train.drop(columns=['total_expense', 'GradRate5Yr', 'Male_Tot', 'FreePct', 'ReducedPct', 'local_rank', 'state_rank', \n",
    "                               'federal_rank', 'total_rank'])\n",
    "\n",
    "#Validation data\n",
    "X5_v=stand_X_valid.drop(columns=['total_expense', 'GradRate5Yr', 'Male_Tot', 'FreePct', 'ReducedPct', 'local_rank', 'state_rank', \n",
    "                               'federal_rank', 'total_rank'])"
   ]
  },
  {
   "cell_type": "code",
   "execution_count": null,
   "metadata": {},
   "outputs": [],
   "source": [
    "# Run function for X5\n",
    "for elem in alpha_lasso:\n",
    "    lasso_model(X5, stand_y_train, X5_v, stand_y_valid, elem)"
   ]
  },
  {
   "cell_type": "markdown",
   "metadata": {},
   "source": [
    "An alpha >= 1 gave all 0 coefficients. So I'm using 0.1 as my alpha level."
   ]
  },
  {
   "cell_type": "code",
   "execution_count": null,
   "metadata": {},
   "outputs": [],
   "source": [
    "#LASSO regression using most variables\n",
    "model=Lasso(alpha=0.1, normalize=False, random_state=543)\n",
    "model.fit(X5, stand_y_train)\n",
    "sig_X5=[]\n",
    "for i in range(0, len(X5.columns)):\n",
    "    print(X5.columns[i], model.coef_[i])\n",
    "    if model.coef_[i]!=0:\n",
    "        sig_X5.append(X5.columns[i])"
   ]
  },
  {
   "cell_type": "code",
   "execution_count": null,
   "metadata": {},
   "outputs": [],
   "source": [
    "#Creating pandas dataframe to print values\n",
    "dict_LASSO_X5 = {'Variable':X5.columns,'Coefficient':model.coef_}\n",
    "LASSO_X5 = pd.DataFrame(dict_LASSO_X5)\n",
    "\n",
    "#Removing zero coefficients\n",
    "LASSO_X5_Sig = LASSO_X5[LASSO_X5['Coefficient'] != 0]\n",
    "LASSO_X5_Sig.reset_index(drop=True, inplace=True)\n",
    "prop=pd.DataFrame(['4-Year Graduation Rate', 'Community Eligibility Provision Indicator', '% of Female Students',\n",
    "                   '% of Black Students', '% of White Students', '% of Economically Disadvantaged Students',\n",
    "                   '% of Attendance to ADM', 'Average Media Age', '% of Teachers with < 3 Years Experience',\n",
    "                   '1 Year Teacher/Principal Turnover %', 'Short Term Suspensions per 100'], columns=['Variable Name'])\n",
    "LASSO_X5_Sig=pd.concat([LASSO_X5_Sig, prop], axis=1)\n",
    "LASSO_X5_Sig['Index']=LASSO_X5_Sig['Variable']\n",
    "LASSO_X5_Sig.set_index('Index', inplace=True)\n",
    "LASSO_X5_Sig"
   ]
  },
  {
   "cell_type": "code",
   "execution_count": null,
   "metadata": {},
   "outputs": [],
   "source": [
    "#Unstandardize the coefficients\n",
    "coef_unstd_X5=[]\n",
    "unstdev(coef_unstd_X5, LASSO_X5_Sig)"
   ]
  },
  {
   "cell_type": "code",
   "execution_count": null,
   "metadata": {},
   "outputs": [],
   "source": [
    "#Creating a plot ot visualize information \n",
    "fig14 = px.bar(LASSO_X5_Sig, x=\"Variable Name\", y=\"Coefficient\")\n",
    "fig14.update_layout(title={'text':'Coefficients for each Selected Variable', 'x':0.5})\n",
    "fig14.show()"
   ]
  },
  {
   "cell_type": "markdown",
   "metadata": {},
   "source": [
    "# Results: The model using X4 had the best results"
   ]
  },
  {
   "cell_type": "code",
   "execution_count": null,
   "metadata": {},
   "outputs": [],
   "source": [
    "#Printing results again to see outcomes\n",
    "model = Lasso(alpha=0.1, normalize=False, random_state=543)\n",
    "model.fit(X4, stand_y_train)\n",
    "for i in range(0, len(var_importance)):\n",
    "    print(var_import[i], model.coef_[i])"
   ]
  },
  {
   "cell_type": "markdown",
   "metadata": {},
   "source": [
    "# Additional Plots for Report"
   ]
  },
  {
   "cell_type": "code",
   "execution_count": null,
   "metadata": {},
   "outputs": [],
   "source": [
    "#Fitting a linear regression to see the relationship between school score and the percent of teachers with <3 years experience.\n",
    "fig15=px.scatter(Xy_train, x='pct_experience_0', y='spg_score', trendline='ols', \n",
    "                labels={'pct_experience_0':\"% of teachers with < 3 Years of Experience\",\n",
    "                       'spg_score':'2017 School Performance Score'})\n",
    "fig15.update_layout(title={'text':\"Relationship between school performance scores and teacher experience\",'x':0.5})\n",
    "fig15.show()\n",
    "\n",
    "fig11.show()"
   ]
  },
  {
   "cell_type": "code",
   "execution_count": null,
   "metadata": {},
   "outputs": [],
   "source": [
    "#Fitting a linear regression to see the relationship between school score and the percent of teachers with masters degrees.\n",
    "fig16=px.scatter(masters, x='pct_eds', y='spg_score', trendline='ols', \n",
    "                labels={'pct_eds':\"Percentage of Economically Disadvantaged Students\",\n",
    "                       'spg_score':'2017 School Performance Score'})\n",
    "fig16.update_layout(title={'text':\"Relationship between school performance scores and economic disadvantage\",'x':0.5})\n",
    "\n",
    "fig16.show()"
   ]
  },
  {
   "cell_type": "code",
   "execution_count": null,
   "metadata": {},
   "outputs": [],
   "source": [
    "#Fitting a linear regression to see the relationship between school score and number of short term suspensions.\n",
    "fig17=px.scatter(Xy_train, x='shortsusper100', y='spg_score', trendline='ols', \n",
    "                labels={'shortsusper100':\"Number of Short Term Suspensions per 100 Students\",\n",
    "                       'spg_score':'2017 School Performance Score'})\n",
    "fig17.update_layout(title={'text':\"Relationship between school performance scores and short term suspensions\",'x':0.5})\n",
    "fig17.show()"
   ]
  },
  {
   "cell_type": "code",
   "execution_count": null,
   "metadata": {},
   "outputs": [],
   "source": [
    "#Importing plotly subplots and graph objects\n",
    "from plotly.subplots import make_subplots\n",
    "import plotly.graph_objects as go"
   ]
  },
  {
   "cell_type": "code",
   "execution_count": null,
   "metadata": {},
   "outputs": [],
   "source": [
    "#Creating a plot to compare variable significance in the 3 models to get a sense of what matters for school performance scores\n",
    "fig=go.Figure()\n",
    "fig.add_trace(go.Bar(\n",
    "    y=LASSO_X3_Sig['Variable Name'], \n",
    "    x=LASSO_X3_Sig['Coefficient'], \n",
    "    orientation='h',\n",
    "    name='Growth Decision Tree Variables',\n",
    "    marker={'color':'orange'}))\n",
    "fig.add_trace(go.Bar(\n",
    "    y=LASSO_X4_Sig['Variable Name'], \n",
    "    x=LASSO_X4_Sig['Coefficient'], \n",
    "    orientation='h',\n",
    "    name='Grade Decision Tree Variables',\n",
    "    marker={'color':'blue'}))\n",
    "fig.add_trace(go.Bar(\n",
    "    y=LASSO_X5_Sig['Variable Name'], \n",
    "    x=LASSO_X5_Sig['Coefficient'], \n",
    "    orientation='h',\n",
    "    name='Selected Variables',\n",
    "    marker={'color':'light green'}))\n",
    "fig.update_layout(title='Variable Significance', title_x=0.5, legend=dict(\n",
    "    yanchor=\"bottom\",\n",
    "    y=-0.25,\n",
    "    xanchor=\"left\",\n",
    "    x=0\n",
    "))\n",
    "layout = go.Layout(\n",
    "    autosize=False,\n",
    "    width=800,\n",
    "    height=700)\n",
    "fig.update_layout(layout)"
   ]
  },
  {
   "cell_type": "code",
   "execution_count": null,
   "metadata": {},
   "outputs": [],
   "source": [
    "#Fitting a linear regression to see the relationship between school score and the percent of white students\n",
    "fig18=px.scatter(masters, x='White', y='spg_score', trendline='ols', \n",
    "                labels={'White':\"% of White Students\",\n",
    "                       'spg_score':'2017 School Performance Score'})\n",
    "fig18.update_layout(title={'text':\"Relationship between school performance scores and white students\",'x':0.5})\n",
    "fig18.show()"
   ]
  },
  {
   "cell_type": "code",
   "execution_count": null,
   "metadata": {},
   "outputs": [],
   "source": [
    "#Fitting a linear regression to see the relationship between percent of white students and percent of economically disadvantaged\n",
    "#students\n",
    "fig19=px.scatter(masters, x='White', y='pct_eds', trendline='ols', \n",
    "                labels={'White':\"% of White Students\",\n",
    "                       'eds_pct':'% Economically Disadvantaged'})\n",
    "fig19.update_layout(title={'text':\"Relationship between race and economic disadvantage\",'x':0.5})\n",
    "fig19.show()"
   ]
  },
  {
   "cell_type": "code",
   "execution_count": null,
   "metadata": {},
   "outputs": [],
   "source": [
    "#Fitting a linear regression to see the relationship between school score and the percent of teachers with masters degrees.\n",
    "fig20=px.scatter(masters, x='Masters', y='spg_score', trendline='ols', \n",
    "                labels={'Masters':\"Percentage of Teachers with Master's Degrees\",\n",
    "                       'spg_score':'2017 School Performance Score'})\n",
    "fig20.update_layout(title={'text':\"Relationship between school performance scores and percent of teachers with master's degrees\",'x':0.5})\n",
    "\n",
    "fig20.show()"
   ]
  },
  {
   "cell_type": "code",
   "execution_count": null,
   "metadata": {},
   "outputs": [],
   "source": [
    "#Fitting a linear regression to see the relationship between SAT score and the percent of teachers with masters degrees.\n",
    "sat_masters=masters[masters['avg_sat_score']>0]\n",
    "fig21=px.scatter(sat_masters, x='Masters', y='avg_sat_score', trendline='ols', \n",
    "                labels={'Masters':\"Percentage of Teachers with Master's Degrees\",\n",
    "                       'avg_sat_score':'2017 SAT Scores'})\n",
    "fig21.update_layout(title={'text':\"Relationship between SAT scores and percent of teachers with master's degrees\",'x':0.5})\n",
    "\n",
    "fig21.show()"
   ]
  }
 ],
 "metadata": {
  "kernelspec": {
   "display_name": "Python 3",
   "language": "python",
   "name": "python3"
  },
  "language_info": {
   "codemirror_mode": {
    "name": "ipython",
    "version": 3
   },
   "file_extension": ".py",
   "mimetype": "text/x-python",
   "name": "python",
   "nbconvert_exporter": "python",
   "pygments_lexer": "ipython3",
   "version": "3.7.6"
  }
 },
 "nbformat": 4,
 "nbformat_minor": 4
}
